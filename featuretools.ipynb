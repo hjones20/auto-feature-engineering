{
 "cells": [
  {
   "cell_type": "markdown",
   "metadata": {},
   "source": [
    "# Featuretools \n",
    "Featuretools is a framework to perform automated feature engineering. It excels at transforming temporal and relational datasets into feature matrices for machine learning."
   ]
  },
  {
   "cell_type": "code",
   "execution_count": 1,
   "metadata": {},
   "outputs": [],
   "source": [
    "import featuretools as ft"
   ]
  },
  {
   "cell_type": "markdown",
   "metadata": {},
   "source": [
    "## Loading Raw Data\n",
    "Loading two separate tables below represented as Pandas dataframes\n",
    "1. Merge of transactions, sessions, customers\n",
    "2. List of products"
   ]
  },
  {
   "cell_type": "code",
   "execution_count": 2,
   "metadata": {},
   "outputs": [
    {
     "data": {
      "text/html": [
       "<div>\n",
       "<style scoped>\n",
       "    .dataframe tbody tr th:only-of-type {\n",
       "        vertical-align: middle;\n",
       "    }\n",
       "\n",
       "    .dataframe tbody tr th {\n",
       "        vertical-align: top;\n",
       "    }\n",
       "\n",
       "    .dataframe thead th {\n",
       "        text-align: right;\n",
       "    }\n",
       "</style>\n",
       "<table border=\"1\" class=\"dataframe\">\n",
       "  <thead>\n",
       "    <tr style=\"text-align: right;\">\n",
       "      <th></th>\n",
       "      <th>transaction_id</th>\n",
       "      <th>session_id</th>\n",
       "      <th>transaction_time</th>\n",
       "      <th>product_id</th>\n",
       "      <th>amount</th>\n",
       "      <th>customer_id</th>\n",
       "      <th>device</th>\n",
       "      <th>session_start</th>\n",
       "      <th>zip_code</th>\n",
       "      <th>join_date</th>\n",
       "      <th>date_of_birth</th>\n",
       "    </tr>\n",
       "  </thead>\n",
       "  <tbody>\n",
       "    <tr>\n",
       "      <th>264</th>\n",
       "      <td>380</td>\n",
       "      <td>21</td>\n",
       "      <td>2014-01-01 05:14:10</td>\n",
       "      <td>5</td>\n",
       "      <td>57.09</td>\n",
       "      <td>4</td>\n",
       "      <td>desktop</td>\n",
       "      <td>2014-01-01 05:02:15</td>\n",
       "      <td>60091</td>\n",
       "      <td>2011-04-08 20:08:14</td>\n",
       "      <td>2006-08-15</td>\n",
       "    </tr>\n",
       "    <tr>\n",
       "      <th>19</th>\n",
       "      <td>244</td>\n",
       "      <td>10</td>\n",
       "      <td>2014-01-01 02:34:55</td>\n",
       "      <td>2</td>\n",
       "      <td>116.95</td>\n",
       "      <td>2</td>\n",
       "      <td>tablet</td>\n",
       "      <td>2014-01-01 02:31:40</td>\n",
       "      <td>13244</td>\n",
       "      <td>2012-04-15 23:31:04</td>\n",
       "      <td>1986-08-18</td>\n",
       "    </tr>\n",
       "    <tr>\n",
       "      <th>314</th>\n",
       "      <td>299</td>\n",
       "      <td>6</td>\n",
       "      <td>2014-01-01 01:32:05</td>\n",
       "      <td>4</td>\n",
       "      <td>64.99</td>\n",
       "      <td>1</td>\n",
       "      <td>tablet</td>\n",
       "      <td>2014-01-01 01:23:25</td>\n",
       "      <td>60091</td>\n",
       "      <td>2011-04-17 10:48:33</td>\n",
       "      <td>1994-07-18</td>\n",
       "    </tr>\n",
       "    <tr>\n",
       "      <th>290</th>\n",
       "      <td>78</td>\n",
       "      <td>4</td>\n",
       "      <td>2014-01-01 00:54:10</td>\n",
       "      <td>1</td>\n",
       "      <td>37.50</td>\n",
       "      <td>1</td>\n",
       "      <td>mobile</td>\n",
       "      <td>2014-01-01 00:44:25</td>\n",
       "      <td>60091</td>\n",
       "      <td>2011-04-17 10:48:33</td>\n",
       "      <td>1994-07-18</td>\n",
       "    </tr>\n",
       "    <tr>\n",
       "      <th>379</th>\n",
       "      <td>457</td>\n",
       "      <td>27</td>\n",
       "      <td>2014-01-01 06:37:35</td>\n",
       "      <td>1</td>\n",
       "      <td>19.16</td>\n",
       "      <td>1</td>\n",
       "      <td>mobile</td>\n",
       "      <td>2014-01-01 06:34:20</td>\n",
       "      <td>60091</td>\n",
       "      <td>2011-04-17 10:48:33</td>\n",
       "      <td>1994-07-18</td>\n",
       "    </tr>\n",
       "    <tr>\n",
       "      <th>335</th>\n",
       "      <td>477</td>\n",
       "      <td>9</td>\n",
       "      <td>2014-01-01 02:30:35</td>\n",
       "      <td>3</td>\n",
       "      <td>41.70</td>\n",
       "      <td>1</td>\n",
       "      <td>desktop</td>\n",
       "      <td>2014-01-01 02:15:25</td>\n",
       "      <td>60091</td>\n",
       "      <td>2011-04-17 10:48:33</td>\n",
       "      <td>1994-07-18</td>\n",
       "    </tr>\n",
       "    <tr>\n",
       "      <th>293</th>\n",
       "      <td>103</td>\n",
       "      <td>4</td>\n",
       "      <td>2014-01-01 00:57:25</td>\n",
       "      <td>5</td>\n",
       "      <td>20.79</td>\n",
       "      <td>1</td>\n",
       "      <td>mobile</td>\n",
       "      <td>2014-01-01 00:44:25</td>\n",
       "      <td>60091</td>\n",
       "      <td>2011-04-17 10:48:33</td>\n",
       "      <td>1994-07-18</td>\n",
       "    </tr>\n",
       "    <tr>\n",
       "      <th>271</th>\n",
       "      <td>390</td>\n",
       "      <td>22</td>\n",
       "      <td>2014-01-01 05:21:45</td>\n",
       "      <td>2</td>\n",
       "      <td>54.83</td>\n",
       "      <td>4</td>\n",
       "      <td>desktop</td>\n",
       "      <td>2014-01-01 05:21:45</td>\n",
       "      <td>60091</td>\n",
       "      <td>2011-04-08 20:08:14</td>\n",
       "      <td>2006-08-15</td>\n",
       "    </tr>\n",
       "    <tr>\n",
       "      <th>404</th>\n",
       "      <td>476</td>\n",
       "      <td>29</td>\n",
       "      <td>2014-01-01 07:24:10</td>\n",
       "      <td>4</td>\n",
       "      <td>121.59</td>\n",
       "      <td>1</td>\n",
       "      <td>mobile</td>\n",
       "      <td>2014-01-01 07:10:05</td>\n",
       "      <td>60091</td>\n",
       "      <td>2011-04-17 10:48:33</td>\n",
       "      <td>1994-07-18</td>\n",
       "    </tr>\n",
       "    <tr>\n",
       "      <th>179</th>\n",
       "      <td>90</td>\n",
       "      <td>3</td>\n",
       "      <td>2014-01-01 00:35:45</td>\n",
       "      <td>1</td>\n",
       "      <td>75.73</td>\n",
       "      <td>4</td>\n",
       "      <td>mobile</td>\n",
       "      <td>2014-01-01 00:28:10</td>\n",
       "      <td>60091</td>\n",
       "      <td>2011-04-08 20:08:14</td>\n",
       "      <td>2006-08-15</td>\n",
       "    </tr>\n",
       "  </tbody>\n",
       "</table>\n",
       "</div>"
      ],
      "text/plain": [
       "     transaction_id  session_id    transaction_time product_id  amount  \\\n",
       "264             380          21 2014-01-01 05:14:10          5   57.09   \n",
       "19              244          10 2014-01-01 02:34:55          2  116.95   \n",
       "314             299           6 2014-01-01 01:32:05          4   64.99   \n",
       "290              78           4 2014-01-01 00:54:10          1   37.50   \n",
       "379             457          27 2014-01-01 06:37:35          1   19.16   \n",
       "335             477           9 2014-01-01 02:30:35          3   41.70   \n",
       "293             103           4 2014-01-01 00:57:25          5   20.79   \n",
       "271             390          22 2014-01-01 05:21:45          2   54.83   \n",
       "404             476          29 2014-01-01 07:24:10          4  121.59   \n",
       "179              90           3 2014-01-01 00:35:45          1   75.73   \n",
       "\n",
       "     customer_id   device       session_start zip_code           join_date  \\\n",
       "264            4  desktop 2014-01-01 05:02:15    60091 2011-04-08 20:08:14   \n",
       "19             2   tablet 2014-01-01 02:31:40    13244 2012-04-15 23:31:04   \n",
       "314            1   tablet 2014-01-01 01:23:25    60091 2011-04-17 10:48:33   \n",
       "290            1   mobile 2014-01-01 00:44:25    60091 2011-04-17 10:48:33   \n",
       "379            1   mobile 2014-01-01 06:34:20    60091 2011-04-17 10:48:33   \n",
       "335            1  desktop 2014-01-01 02:15:25    60091 2011-04-17 10:48:33   \n",
       "293            1   mobile 2014-01-01 00:44:25    60091 2011-04-17 10:48:33   \n",
       "271            4  desktop 2014-01-01 05:21:45    60091 2011-04-08 20:08:14   \n",
       "404            1   mobile 2014-01-01 07:10:05    60091 2011-04-17 10:48:33   \n",
       "179            4   mobile 2014-01-01 00:28:10    60091 2011-04-08 20:08:14   \n",
       "\n",
       "    date_of_birth  \n",
       "264    2006-08-15  \n",
       "19     1986-08-18  \n",
       "314    1994-07-18  \n",
       "290    1994-07-18  \n",
       "379    1994-07-18  \n",
       "335    1994-07-18  \n",
       "293    1994-07-18  \n",
       "271    2006-08-15  \n",
       "404    1994-07-18  \n",
       "179    2006-08-15  "
      ]
     },
     "execution_count": 2,
     "metadata": {},
     "output_type": "execute_result"
    }
   ],
   "source": [
    "data = ft.demo.load_mock_customer()\n",
    "transactions_df = data[\"transactions\"].merge(data[\"sessions\"]).merge(data[\"customers\"])\n",
    "transactions_df.sample(10)"
   ]
  },
  {
   "cell_type": "code",
   "execution_count": 6,
   "metadata": {},
   "outputs": [
    {
     "data": {
      "text/html": [
       "<div>\n",
       "<style scoped>\n",
       "    .dataframe tbody tr th:only-of-type {\n",
       "        vertical-align: middle;\n",
       "    }\n",
       "\n",
       "    .dataframe tbody tr th {\n",
       "        vertical-align: top;\n",
       "    }\n",
       "\n",
       "    .dataframe thead th {\n",
       "        text-align: right;\n",
       "    }\n",
       "</style>\n",
       "<table border=\"1\" class=\"dataframe\">\n",
       "  <thead>\n",
       "    <tr style=\"text-align: right;\">\n",
       "      <th></th>\n",
       "      <th>product_id</th>\n",
       "      <th>brand</th>\n",
       "    </tr>\n",
       "  </thead>\n",
       "  <tbody>\n",
       "    <tr>\n",
       "      <th>0</th>\n",
       "      <td>1</td>\n",
       "      <td>B</td>\n",
       "    </tr>\n",
       "    <tr>\n",
       "      <th>1</th>\n",
       "      <td>2</td>\n",
       "      <td>B</td>\n",
       "    </tr>\n",
       "    <tr>\n",
       "      <th>2</th>\n",
       "      <td>3</td>\n",
       "      <td>B</td>\n",
       "    </tr>\n",
       "    <tr>\n",
       "      <th>3</th>\n",
       "      <td>4</td>\n",
       "      <td>B</td>\n",
       "    </tr>\n",
       "    <tr>\n",
       "      <th>4</th>\n",
       "      <td>5</td>\n",
       "      <td>A</td>\n",
       "    </tr>\n",
       "  </tbody>\n",
       "</table>\n",
       "</div>"
      ],
      "text/plain": [
       "  product_id brand\n",
       "0          1     B\n",
       "1          2     B\n",
       "2          3     B\n",
       "3          4     B\n",
       "4          5     A"
      ]
     },
     "execution_count": 6,
     "metadata": {},
     "output_type": "execute_result"
    }
   ],
   "source": [
    "# only 5 unique products in this example\n",
    "products_df = data[\"products\"]\n",
    "products_df"
   ]
  },
  {
   "cell_type": "markdown",
   "metadata": {},
   "source": [
    "## Creating an EntitySet\n",
    "<font color='red'>**Naming Conventions**</font> \n",
    "- **Entity:** Equivalent to a table in relational database. Represented by the Entity class.\n",
    "- **Instance:** Equivalent to a row in a relational database. Each entity has many instances, and each instance has a value for each variable and feature defined on the entity.\n",
    "- **Variable:** Equivalent to a column in a relational database. Represented by the Variable class.\n",
    "- **Feature:** A transformation of data used for machine learning. featuretools has a custom language for defining features as described here. All features are represented by subclasses of FeatureBase.\n",
    "- **EntitySet:** A collection of entities and the relationships between them. Represented by the EntitySet class.\n",
    "- **Parent Entity:** An entity that is referenced by another entity via relationship. The \"one\" in a one-to-many relationship.\n",
    "- **Target Entity:** The entity on which we will be making a features for.\n",
    "\n",
    "<font color='red'>**Things to Note**</font><br>\n",
    "<font color='red'>I always need the ability to easily find and differentiate between raw dataframes and entity objects as well as raw columns and derived features</font>\n",
    "1. There's a clear separation between the raw dataframes I loaded and the explicit entities I define below as part of my EntitySet\n",
    "2. There's a clear separation between the columns that are loaded as part of the raw dataframes (referred to as \"variables\" above) and the features I will create later on"
   ]
  },
  {
   "cell_type": "markdown",
   "metadata": {},
   "source": [
    "### Creating and Adding Individual Entities\n",
    "<font color='red'>**Things to Note**</font><br>\n",
    "<font color='red'>I always need the ability to do the following w.r.t. creating entities:\n",
    "1. **Add a friendly name to a given entity**\n",
    "2. **Add a friendly description to a given entity:** For example, \"customer_data\" represents a combination of three separate data sources: transactions, sessions, and customers. If I can leave myself a entity description to this effect then I don't have to endure the cognitive burden of keeping track of this info throughout my workflow.\n",
    "3. **Create an index:** to identify the column that uniquely identifies rows in the entity\n",
    "4. **Create a time index:** to determine the first and last dated records in any entity\n",
    "5. **Type-cast columns:** For example, I type cast product_id to categorical below for primitive applicability\n",
    "6. **View variable vs. feature count:** I want to know how many columns correspond to \"variables\" vs. \"features\" given the definitions above</font>"
   ]
  },
  {
   "cell_type": "code",
   "execution_count": 9,
   "metadata": {},
   "outputs": [
    {
     "data": {
      "text/plain": [
       "Entityset: customer_data\n",
       "  Entities:\n",
       "  Relationships:\n",
       "    No relationships"
      ]
     },
     "execution_count": 9,
     "metadata": {},
     "output_type": "execute_result"
    }
   ],
   "source": [
    "# First, we initialize an empty EntitySet\n",
    "es = ft.EntitySet(id=\"customer_data\")\n",
    "es"
   ]
  },
  {
   "cell_type": "code",
   "execution_count": 13,
   "metadata": {},
   "outputs": [
    {
     "data": {
      "text/plain": [
       "Entityset: customer_data\n",
       "  Entities:\n",
       "    transactions [Rows: 500, Columns: 11]\n",
       "  Relationships:\n",
       "    No relationships"
      ]
     },
     "execution_count": 13,
     "metadata": {},
     "output_type": "execute_result"
    }
   ],
   "source": [
    "# Next, we add our first individual entity to the entityset\n",
    "# Great naming conventions here: 'create_entity_from_X'\n",
    "es = es.entity_from_dataframe(entity_id=\"transactions\", \n",
    "                              dataframe=transactions_df,\n",
    "                              index=\"transaction_id\",\n",
    "                              time_index=\"transaction_time\",\n",
    "                              variable_types={\"product_id\": ft.variable_types.Categorical,\n",
    "                                              \"zip_code\": ft.variable_types.ZIPCode})\n",
    "\n",
    "es"
   ]
  },
  {
   "cell_type": "code",
   "execution_count": 14,
   "metadata": {},
   "outputs": [
    {
     "data": {
      "text/plain": [
       "[<Variable: transaction_id (dtype = index)>,\n",
       " <Variable: session_id (dtype = numeric)>,\n",
       " <Variable: transaction_time (dtype: datetime_time_index, format: None)>,\n",
       " <Variable: amount (dtype = numeric)>,\n",
       " <Variable: customer_id (dtype = numeric)>,\n",
       " <Variable: device (dtype = categorical)>,\n",
       " <Variable: session_start (dtype: datetime, format: None)>,\n",
       " <Variable: join_date (dtype: datetime, format: None)>,\n",
       " <Variable: date_of_birth (dtype: datetime, format: None)>,\n",
       " <Variable: product_id (dtype = categorical)>,\n",
       " <Variable: zip_code (dtype = zip_code)>]"
      ]
     },
     "execution_count": 14,
     "metadata": {},
     "output_type": "execute_result"
    }
   ],
   "source": [
    "# Each column (from raw dataframes) is loaded in as a variable\n",
    "es[\"transactions\"].variables"
   ]
  },
  {
   "cell_type": "code",
   "execution_count": 16,
   "metadata": {},
   "outputs": [
    {
     "data": {
      "text/plain": [
       "Entityset: customer_data\n",
       "  Entities:\n",
       "    transactions [Rows: 500, Columns: 11]\n",
       "    products [Rows: 5, Columns: 2]\n",
       "  Relationships:\n",
       "    No relationships"
      ]
     },
     "execution_count": 16,
     "metadata": {},
     "output_type": "execute_result"
    }
   ],
   "source": [
    "# Next, we add another individual entity\n",
    "es = es.entity_from_dataframe(entity_id=\"products\",\n",
    "                              dataframe=products_df,\n",
    "                              index=\"product_id\")\n",
    "\n",
    "es"
   ]
  },
  {
   "cell_type": "markdown",
   "metadata": {},
   "source": [
    "<font color='red'>**Things to Note**</font><br>\n",
    "\n",
    "<font color='red'>I have the notion of parent-child entities and separately, parent variables as well as child variables. Explicitly noting certain variables as child variables helps me keep track of the direction of aggregation. Normally, I'd have to explicitly think about these relationships when doing feature engineering work in SQL or Python. Now that I don't have to anymore, help me build trust in the system and interpret it more easily by explicitly calling out relationships that define the direction of aggregation.</font>"
   ]
  },
  {
   "cell_type": "code",
   "execution_count": 18,
   "metadata": {},
   "outputs": [
    {
     "data": {
      "text/plain": [
       "Entityset: customer_data\n",
       "  Entities:\n",
       "    transactions [Rows: 500, Columns: 11]\n",
       "    products [Rows: 5, Columns: 2]\n",
       "  Relationships:\n",
       "    transactions.product_id -> products.product_id"
      ]
     },
     "execution_count": 18,
     "metadata": {},
     "output_type": "execute_result"
    }
   ],
   "source": [
    "# Next we define a parent-child relationship between the transactions and products entities. \n",
    "# \"Products\" is the parent entity and \"Transactions\" is the child entity (one product to many transactions)\n",
    "# Note that each ft.Relatioship must denote a one-to-many relationship rather than one-to-one or many-to-many\n",
    "new_relationship = ft.Relationship(es[\"products\"][\"product_id\"],\n",
    "                                   es[\"transactions\"][\"product_id\"])\n",
    "\n",
    "es = es.add_relationship(new_relationship)\n",
    "\n",
    "es"
   ]
  },
  {
   "cell_type": "markdown",
   "metadata": {},
   "source": [
    "### Normalize Entities\n",
    "Allows me to create entities from existing tables to reduce the amount of redundant information. We can normalize sessions and customers from the original transactions_df, which has the entity_id \"transactions\""
   ]
  },
  {
   "cell_type": "markdown",
   "metadata": {},
   "source": [
    "### Visualize EntitySets"
   ]
  },
  {
   "cell_type": "code",
   "execution_count": 19,
   "metadata": {},
   "outputs": [
    {
     "ename": "ImportError",
     "evalue": "Please install graphviz to plot. (See https://docs.featuretools.com/en/stable/getting_started/install.html#installing-graphviz for details)",
     "output_type": "error",
     "traceback": [
      "\u001b[0;31m---------------------------------------------------------------------------\u001b[0m",
      "\u001b[0;31mModuleNotFoundError\u001b[0m                       Traceback (most recent call last)",
      "\u001b[0;32m~/miniconda2/envs/p36workshop/lib/python3.6/site-packages/featuretools/utils/gen_utils.py\u001b[0m in \u001b[0;36mimport_or_raise\u001b[0;34m(library, error_msg)\u001b[0m\n\u001b[1;32m     91\u001b[0m     \u001b[0;32mtry\u001b[0m\u001b[0;34m:\u001b[0m\u001b[0;34m\u001b[0m\u001b[0;34m\u001b[0m\u001b[0m\n\u001b[0;32m---> 92\u001b[0;31m         \u001b[0;32mreturn\u001b[0m \u001b[0mimportlib\u001b[0m\u001b[0;34m.\u001b[0m\u001b[0mimport_module\u001b[0m\u001b[0;34m(\u001b[0m\u001b[0mlibrary\u001b[0m\u001b[0;34m)\u001b[0m\u001b[0;34m\u001b[0m\u001b[0;34m\u001b[0m\u001b[0m\n\u001b[0m\u001b[1;32m     93\u001b[0m     \u001b[0;32mexcept\u001b[0m \u001b[0mImportError\u001b[0m\u001b[0;34m:\u001b[0m\u001b[0;34m\u001b[0m\u001b[0;34m\u001b[0m\u001b[0m\n",
      "\u001b[0;32m~/miniconda2/envs/p36workshop/lib/python3.6/importlib/__init__.py\u001b[0m in \u001b[0;36mimport_module\u001b[0;34m(name, package)\u001b[0m\n\u001b[1;32m    125\u001b[0m             \u001b[0mlevel\u001b[0m \u001b[0;34m+=\u001b[0m \u001b[0;36m1\u001b[0m\u001b[0;34m\u001b[0m\u001b[0;34m\u001b[0m\u001b[0m\n\u001b[0;32m--> 126\u001b[0;31m     \u001b[0;32mreturn\u001b[0m \u001b[0m_bootstrap\u001b[0m\u001b[0;34m.\u001b[0m\u001b[0m_gcd_import\u001b[0m\u001b[0;34m(\u001b[0m\u001b[0mname\u001b[0m\u001b[0;34m[\u001b[0m\u001b[0mlevel\u001b[0m\u001b[0;34m:\u001b[0m\u001b[0;34m]\u001b[0m\u001b[0;34m,\u001b[0m \u001b[0mpackage\u001b[0m\u001b[0;34m,\u001b[0m \u001b[0mlevel\u001b[0m\u001b[0;34m)\u001b[0m\u001b[0;34m\u001b[0m\u001b[0;34m\u001b[0m\u001b[0m\n\u001b[0m\u001b[1;32m    127\u001b[0m \u001b[0;34m\u001b[0m\u001b[0m\n",
      "\u001b[0;32m~/miniconda2/envs/p36workshop/lib/python3.6/importlib/_bootstrap.py\u001b[0m in \u001b[0;36m_gcd_import\u001b[0;34m(name, package, level)\u001b[0m\n",
      "\u001b[0;32m~/miniconda2/envs/p36workshop/lib/python3.6/importlib/_bootstrap.py\u001b[0m in \u001b[0;36m_find_and_load\u001b[0;34m(name, import_)\u001b[0m\n",
      "\u001b[0;32m~/miniconda2/envs/p36workshop/lib/python3.6/importlib/_bootstrap.py\u001b[0m in \u001b[0;36m_find_and_load_unlocked\u001b[0;34m(name, import_)\u001b[0m\n",
      "\u001b[0;31mModuleNotFoundError\u001b[0m: No module named 'graphviz'",
      "\nDuring handling of the above exception, another exception occurred:\n",
      "\u001b[0;31mImportError\u001b[0m                               Traceback (most recent call last)",
      "\u001b[0;32m<ipython-input-19-8d48c5b2db39>\u001b[0m in \u001b[0;36m<module>\u001b[0;34m\u001b[0m\n\u001b[0;32m----> 1\u001b[0;31m \u001b[0mes\u001b[0m\u001b[0;34m.\u001b[0m\u001b[0mplot\u001b[0m\u001b[0;34m(\u001b[0m\u001b[0;34m)\u001b[0m\u001b[0;34m\u001b[0m\u001b[0;34m\u001b[0m\u001b[0m\n\u001b[0m",
      "\u001b[0;32m~/miniconda2/envs/p36workshop/lib/python3.6/site-packages/featuretools/entityset/entityset.py\u001b[0m in \u001b[0;36mplot\u001b[0;34m(self, to_file)\u001b[0m\n\u001b[1;32m    936\u001b[0m \u001b[0;34m\u001b[0m\u001b[0m\n\u001b[1;32m    937\u001b[0m         \"\"\"\n\u001b[0;32m--> 938\u001b[0;31m         \u001b[0mgraphviz\u001b[0m \u001b[0;34m=\u001b[0m \u001b[0mcheck_graphviz\u001b[0m\u001b[0;34m(\u001b[0m\u001b[0;34m)\u001b[0m\u001b[0;34m\u001b[0m\u001b[0;34m\u001b[0m\u001b[0m\n\u001b[0m\u001b[1;32m    939\u001b[0m         format_ = get_graphviz_format(graphviz=graphviz,\n\u001b[1;32m    940\u001b[0m                                       to_file=to_file)\n",
      "\u001b[0;32m~/miniconda2/envs/p36workshop/lib/python3.6/site-packages/featuretools/utils/plot_utils.py\u001b[0m in \u001b[0;36mcheck_graphviz\u001b[0;34m()\u001b[0m\n\u001b[1;32m      6\u001b[0m                         \u001b[0;34m' (See https://docs.featuretools.com/en/stable/getting_started/install.html#installing-graphviz for'\u001b[0m \u001b[0;34m+\u001b[0m\u001b[0;34m\u001b[0m\u001b[0;34m\u001b[0m\u001b[0m\n\u001b[1;32m      7\u001b[0m                         ' details)')\n\u001b[0;32m----> 8\u001b[0;31m     \u001b[0mgraphviz\u001b[0m \u001b[0;34m=\u001b[0m \u001b[0mimport_or_raise\u001b[0m\u001b[0;34m(\u001b[0m\u001b[0;34m\"graphviz\"\u001b[0m\u001b[0;34m,\u001b[0m \u001b[0mGRAPHVIZ_ERR_MSG\u001b[0m\u001b[0;34m)\u001b[0m\u001b[0;34m\u001b[0m\u001b[0;34m\u001b[0m\u001b[0m\n\u001b[0m\u001b[1;32m      9\u001b[0m     \u001b[0;31m# Try rendering a dummy graph to see if a working backend is installed\u001b[0m\u001b[0;34m\u001b[0m\u001b[0;34m\u001b[0m\u001b[0;34m\u001b[0m\u001b[0m\n\u001b[1;32m     10\u001b[0m     \u001b[0;32mtry\u001b[0m\u001b[0;34m:\u001b[0m\u001b[0;34m\u001b[0m\u001b[0;34m\u001b[0m\u001b[0m\n",
      "\u001b[0;32m~/miniconda2/envs/p36workshop/lib/python3.6/site-packages/featuretools/utils/gen_utils.py\u001b[0m in \u001b[0;36mimport_or_raise\u001b[0;34m(library, error_msg)\u001b[0m\n\u001b[1;32m     92\u001b[0m         \u001b[0;32mreturn\u001b[0m \u001b[0mimportlib\u001b[0m\u001b[0;34m.\u001b[0m\u001b[0mimport_module\u001b[0m\u001b[0;34m(\u001b[0m\u001b[0mlibrary\u001b[0m\u001b[0;34m)\u001b[0m\u001b[0;34m\u001b[0m\u001b[0;34m\u001b[0m\u001b[0m\n\u001b[1;32m     93\u001b[0m     \u001b[0;32mexcept\u001b[0m \u001b[0mImportError\u001b[0m\u001b[0;34m:\u001b[0m\u001b[0;34m\u001b[0m\u001b[0;34m\u001b[0m\u001b[0m\n\u001b[0;32m---> 94\u001b[0;31m         \u001b[0;32mraise\u001b[0m \u001b[0mImportError\u001b[0m\u001b[0;34m(\u001b[0m\u001b[0merror_msg\u001b[0m\u001b[0;34m)\u001b[0m\u001b[0;34m\u001b[0m\u001b[0;34m\u001b[0m\u001b[0m\n\u001b[0m\u001b[1;32m     95\u001b[0m \u001b[0;34m\u001b[0m\u001b[0m\n\u001b[1;32m     96\u001b[0m \u001b[0;34m\u001b[0m\u001b[0m\n",
      "\u001b[0;31mImportError\u001b[0m: Please install graphviz to plot. (See https://docs.featuretools.com/en/stable/getting_started/install.html#installing-graphviz for details)"
     ]
    }
   ],
   "source": [
    "es.plot()"
   ]
  },
  {
   "cell_type": "code",
   "execution_count": null,
   "metadata": {},
   "outputs": [],
   "source": []
  }
 ],
 "metadata": {
  "kernelspec": {
   "display_name": "Python 3.6",
   "language": "python",
   "name": "p36workshop"
  },
  "language_info": {
   "codemirror_mode": {
    "name": "ipython",
    "version": 3
   },
   "file_extension": ".py",
   "mimetype": "text/x-python",
   "name": "python",
   "nbconvert_exporter": "python",
   "pygments_lexer": "ipython3",
   "version": "3.6.10"
  }
 },
 "nbformat": 4,
 "nbformat_minor": 2
}
